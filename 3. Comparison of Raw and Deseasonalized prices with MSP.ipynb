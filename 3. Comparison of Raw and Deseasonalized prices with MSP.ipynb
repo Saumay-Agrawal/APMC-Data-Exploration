{
 "cells": [
  {
   "cell_type": "code",
   "execution_count": 1,
   "metadata": {},
   "outputs": [],
   "source": [
    "import numpy as np\n",
    "import pandas as pd\n",
    "import matplotlib.pyplot as plt\n",
    "%matplotlib inline\n",
    "import seaborn as sb\n",
    "\n",
    "from statsmodels.tsa.seasonal import seasonal_decompose\n",
    "from statsmodels.tsa.stattools import acf\n",
    "from statsmodels.graphics.tsaplots import plot_acf\n",
    "from statsmodels.tsa.stattools import adfuller"
   ]
  },
  {
   "cell_type": "code",
   "execution_count": 2,
   "metadata": {},
   "outputs": [],
   "source": [
    "def deseasonalise(series, freq=3):\n",
    "\n",
    "    mulresult = seasonal_decompose(series, model='multiplicative', freq=freq)\n",
    "    addresult = seasonal_decompose(series, model='additive', freq=freq)\n",
    "    \n",
    "    acfmul = acf(mulresult.resid.dropna())\n",
    "    acfadd = acf(addresult.resid.dropna())\n",
    "\n",
    "    sumacfmul = sum(acfmul**2)\n",
    "    sumacfadd = sum(acfadd**2)\n",
    "\n",
    "    seasonality = ''\n",
    "    deseasonalised = None\n",
    "    \n",
    "    if(sumacfmul<=sumacfadd):\n",
    "        seasonality = 'multiplicative'\n",
    "        deseasonalised = mulresult.observed / mulresult.seasonal\n",
    "    else:\n",
    "        seasonality = 'additive'\n",
    "        deseasonalised = addresult.observed - addresult.seasonal\n",
    "    \n",
    "    return {\n",
    "        'seasonality' : seasonality,\n",
    "        'deseasonalised' : deseasonalised\n",
    "    }"
   ]
  },
  {
   "cell_type": "code",
   "execution_count": null,
   "metadata": {},
   "outputs": [],
   "source": []
  },
  {
   "cell_type": "markdown",
   "metadata": {},
   "source": [
    "# Approach\n",
    "\n",
    "#### For the effective comparison of raw and deseasonlised modal prices with the MSP of the commodities, following steps were performed:\n",
    "1. The common commodities in both the datasets were found. The comparisons were done in two ways.\n",
    "> In the first method the price values were aggregated across all APMCs for each commodity, to get the overview of specific commodity statistic in entire market. In the second method, individual processing and comparison were done for each common commodity under each APMC.\n",
    "2. For each commodity the datasets were combined\n",
    "> For each commodity, the price values were aggregated from monthly dataset. Since the timestamp range of monthly dataset and MSP dataset differed, the timestamp range for each commodity were increased and forward filled, in order to facilitate the easy merging of the subsampled datasets. The new dataset now contains price values (minimum, maximum and modal), quantities and the msps for a commodity.\n",
    "3. The modal prices were deseasonalised and comparison plots were drawn.\n",
    "> The modal prices of the new dataset obtained were deseasonalised using the method used previously. The line plots comparing the modal price, deseasonalised price and the minimum support price were plotted and save in respective folders."
   ]
  },
  {
   "cell_type": "code",
   "execution_count": 3,
   "metadata": {},
   "outputs": [
    {
     "data": {
      "text/html": [
       "<div>\n",
       "<style scoped>\n",
       "    .dataframe tbody tr th:only-of-type {\n",
       "        vertical-align: middle;\n",
       "    }\n",
       "\n",
       "    .dataframe tbody tr th {\n",
       "        vertical-align: top;\n",
       "    }\n",
       "\n",
       "    .dataframe thead th {\n",
       "        text-align: right;\n",
       "    }\n",
       "</style>\n",
       "<table border=\"1\" class=\"dataframe\">\n",
       "  <thead>\n",
       "    <tr style=\"text-align: right;\">\n",
       "      <th></th>\n",
       "      <th>APMC</th>\n",
       "      <th>Commodity</th>\n",
       "      <th>arrivals_in_qtl</th>\n",
       "      <th>min_price</th>\n",
       "      <th>max_price</th>\n",
       "      <th>modal_price</th>\n",
       "      <th>date</th>\n",
       "      <th>district_name</th>\n",
       "    </tr>\n",
       "  </thead>\n",
       "  <tbody>\n",
       "    <tr>\n",
       "      <th>0</th>\n",
       "      <td>AMARAWATI</td>\n",
       "      <td>AMBA KOY</td>\n",
       "      <td>435</td>\n",
       "      <td>3250.0</td>\n",
       "      <td>4250.0</td>\n",
       "      <td>3750.0</td>\n",
       "      <td>2016-06-01</td>\n",
       "      <td>AMARAVATHI</td>\n",
       "    </tr>\n",
       "    <tr>\n",
       "      <th>1</th>\n",
       "      <td>PUNE-MANJRI</td>\n",
       "      <td>AMBAT CHUKA</td>\n",
       "      <td>12</td>\n",
       "      <td>180.0</td>\n",
       "      <td>1440.0</td>\n",
       "      <td>270.0</td>\n",
       "      <td>2014-12-01</td>\n",
       "      <td>PUNE</td>\n",
       "    </tr>\n",
       "    <tr>\n",
       "      <th>2</th>\n",
       "      <td>PUNE-MANJRI</td>\n",
       "      <td>AMBAT CHUKA</td>\n",
       "      <td>4</td>\n",
       "      <td>180.0</td>\n",
       "      <td>1350.0</td>\n",
       "      <td>270.0</td>\n",
       "      <td>2015-01-01</td>\n",
       "      <td>PUNE</td>\n",
       "    </tr>\n",
       "    <tr>\n",
       "      <th>3</th>\n",
       "      <td>PUNE-MANJRI</td>\n",
       "      <td>AMBAT CHUKA</td>\n",
       "      <td>10</td>\n",
       "      <td>180.0</td>\n",
       "      <td>1221.0</td>\n",
       "      <td>270.0</td>\n",
       "      <td>2015-02-01</td>\n",
       "      <td>PUNE</td>\n",
       "    </tr>\n",
       "    <tr>\n",
       "      <th>4</th>\n",
       "      <td>PUNE-MANJRI</td>\n",
       "      <td>AMBAT CHUKA</td>\n",
       "      <td>11</td>\n",
       "      <td>180.0</td>\n",
       "      <td>1300.0</td>\n",
       "      <td>270.0</td>\n",
       "      <td>2015-03-01</td>\n",
       "      <td>PUNE</td>\n",
       "    </tr>\n",
       "  </tbody>\n",
       "</table>\n",
       "</div>"
      ],
      "text/plain": [
       "          APMC    Commodity  arrivals_in_qtl  min_price  max_price  \\\n",
       "0    AMARAWATI     AMBA KOY              435     3250.0     4250.0   \n",
       "1  PUNE-MANJRI  AMBAT CHUKA               12      180.0     1440.0   \n",
       "2  PUNE-MANJRI  AMBAT CHUKA                4      180.0     1350.0   \n",
       "3  PUNE-MANJRI  AMBAT CHUKA               10      180.0     1221.0   \n",
       "4  PUNE-MANJRI  AMBAT CHUKA               11      180.0     1300.0   \n",
       "\n",
       "   modal_price       date district_name  \n",
       "0       3750.0 2016-06-01    AMARAVATHI  \n",
       "1        270.0 2014-12-01          PUNE  \n",
       "2        270.0 2015-01-01          PUNE  \n",
       "3        270.0 2015-02-01          PUNE  \n",
       "4        270.0 2015-03-01          PUNE  "
      ]
     },
     "execution_count": 3,
     "metadata": {},
     "output_type": "execute_result"
    }
   ],
   "source": [
    "# Loading the monthly dataset\n",
    "df1 = pd.read_csv('./data/Monthly_data_cmo_cleaned.csv', parse_dates=['date'])\n",
    "df1.drop('Unnamed: 0', axis=1, inplace=True)\n",
    "df1.head()"
   ]
  },
  {
   "cell_type": "code",
   "execution_count": 4,
   "metadata": {},
   "outputs": [
    {
     "data": {
      "text/html": [
       "<div>\n",
       "<style scoped>\n",
       "    .dataframe tbody tr th:only-of-type {\n",
       "        vertical-align: middle;\n",
       "    }\n",
       "\n",
       "    .dataframe tbody tr th {\n",
       "        vertical-align: top;\n",
       "    }\n",
       "\n",
       "    .dataframe thead th {\n",
       "        text-align: right;\n",
       "    }\n",
       "</style>\n",
       "<table border=\"1\" class=\"dataframe\">\n",
       "  <thead>\n",
       "    <tr style=\"text-align: right;\">\n",
       "      <th></th>\n",
       "      <th>commodity</th>\n",
       "      <th>year</th>\n",
       "      <th>Type</th>\n",
       "      <th>msprice</th>\n",
       "    </tr>\n",
       "  </thead>\n",
       "  <tbody>\n",
       "    <tr>\n",
       "      <th>0</th>\n",
       "      <td>BAJRI</td>\n",
       "      <td>2012-01-01</td>\n",
       "      <td>KHARIF CROPS</td>\n",
       "      <td>1175.0</td>\n",
       "    </tr>\n",
       "    <tr>\n",
       "      <th>1</th>\n",
       "      <td>BAJRI</td>\n",
       "      <td>2013-01-01</td>\n",
       "      <td>KHARIF CROPS</td>\n",
       "      <td>1310.0</td>\n",
       "    </tr>\n",
       "    <tr>\n",
       "      <th>2</th>\n",
       "      <td>BAJRI</td>\n",
       "      <td>2014-01-01</td>\n",
       "      <td>KHARIF CROPS</td>\n",
       "      <td>1250.0</td>\n",
       "    </tr>\n",
       "    <tr>\n",
       "      <th>3</th>\n",
       "      <td>BAJRI</td>\n",
       "      <td>2015-01-01</td>\n",
       "      <td>KHARIF CROPS</td>\n",
       "      <td>1275.0</td>\n",
       "    </tr>\n",
       "    <tr>\n",
       "      <th>4</th>\n",
       "      <td>BAJRI</td>\n",
       "      <td>2016-01-01</td>\n",
       "      <td>KHARIF CROPS</td>\n",
       "      <td>1330.0</td>\n",
       "    </tr>\n",
       "  </tbody>\n",
       "</table>\n",
       "</div>"
      ],
      "text/plain": [
       "  commodity       year          Type  msprice\n",
       "0     BAJRI 2012-01-01  KHARIF CROPS   1175.0\n",
       "1     BAJRI 2013-01-01  KHARIF CROPS   1310.0\n",
       "2     BAJRI 2014-01-01  KHARIF CROPS   1250.0\n",
       "3     BAJRI 2015-01-01  KHARIF CROPS   1275.0\n",
       "4     BAJRI 2016-01-01  KHARIF CROPS   1330.0"
      ]
     },
     "execution_count": 4,
     "metadata": {},
     "output_type": "execute_result"
    }
   ],
   "source": [
    "# Loading the MSP dataset\n",
    "df2 = pd.read_csv('./data/CMO_MSP_mandi_cleaned.csv', parse_dates=['year'])\n",
    "df2.drop(['Unnamed: 0', 'msp_filter'], axis=1, inplace=True)\n",
    "df2.head()"
   ]
  },
  {
   "cell_type": "code",
   "execution_count": 5,
   "metadata": {},
   "outputs": [
    {
     "data": {
      "text/plain": [
       "['BAJRI',\n",
       " 'COCONUT',\n",
       " 'COTTON',\n",
       " 'GR.NUT KERNELS',\n",
       " 'MAIZE',\n",
       " 'MUSTARD',\n",
       " 'NIGER-SEED',\n",
       " 'PADDY-UNHUSKED',\n",
       " 'PIGEON PEA (TUR)',\n",
       " 'RICE(PADDY-HUS)',\n",
       " 'SAFFLOWER',\n",
       " 'SESAMUM',\n",
       " 'SORGUM(JAWAR)',\n",
       " 'SPLIT BLACK GRAM',\n",
       " 'SPLIT GREEN GRAM',\n",
       " 'SUGARCANE',\n",
       " 'SUNFLOWER',\n",
       " 'WHEAT(HUSKED)',\n",
       " 'WHEAT(UNHUSKED)']"
      ]
     },
     "execution_count": 5,
     "metadata": {},
     "output_type": "execute_result"
    }
   ],
   "source": [
    "# Finding the commond commodities in both datasets\n",
    "common_commodities = list(set(df1.Commodity.unique())&set(df2.commodity.unique()))\n",
    "common_commodities.sort()\n",
    "common_commodities"
   ]
  },
  {
   "cell_type": "code",
   "execution_count": 6,
   "metadata": {},
   "outputs": [],
   "source": [
    "### Combining the datasets for single commodity 'bajri'"
   ]
  },
  {
   "cell_type": "code",
   "execution_count": 7,
   "metadata": {},
   "outputs": [
    {
     "data": {
      "text/html": [
       "<div>\n",
       "<style scoped>\n",
       "    .dataframe tbody tr th:only-of-type {\n",
       "        vertical-align: middle;\n",
       "    }\n",
       "\n",
       "    .dataframe tbody tr th {\n",
       "        vertical-align: top;\n",
       "    }\n",
       "\n",
       "    .dataframe thead th {\n",
       "        text-align: right;\n",
       "    }\n",
       "</style>\n",
       "<table border=\"1\" class=\"dataframe\">\n",
       "  <thead>\n",
       "    <tr style=\"text-align: right;\">\n",
       "      <th></th>\n",
       "      <th>arrivals_in_qtl</th>\n",
       "      <th>min_price</th>\n",
       "      <th>max_price</th>\n",
       "      <th>modal_price</th>\n",
       "    </tr>\n",
       "    <tr>\n",
       "      <th>date</th>\n",
       "      <th></th>\n",
       "      <th></th>\n",
       "      <th></th>\n",
       "      <th></th>\n",
       "    </tr>\n",
       "  </thead>\n",
       "  <tbody>\n",
       "    <tr>\n",
       "      <th>2014-09-01</th>\n",
       "      <td>495.324324</td>\n",
       "      <td>1337.864865</td>\n",
       "      <td>1563.351351</td>\n",
       "      <td>1465.216216</td>\n",
       "    </tr>\n",
       "    <tr>\n",
       "      <th>2014-10-01</th>\n",
       "      <td>1022.680851</td>\n",
       "      <td>1325.936170</td>\n",
       "      <td>1592.000000</td>\n",
       "      <td>1461.872340</td>\n",
       "    </tr>\n",
       "    <tr>\n",
       "      <th>2014-11-01</th>\n",
       "      <td>1199.629032</td>\n",
       "      <td>1340.177419</td>\n",
       "      <td>1573.241935</td>\n",
       "      <td>1465.790323</td>\n",
       "    </tr>\n",
       "    <tr>\n",
       "      <th>2014-12-01</th>\n",
       "      <td>785.222222</td>\n",
       "      <td>1311.244444</td>\n",
       "      <td>1546.622222</td>\n",
       "      <td>1440.533333</td>\n",
       "    </tr>\n",
       "    <tr>\n",
       "      <th>2015-01-01</th>\n",
       "      <td>471.462963</td>\n",
       "      <td>1336.111111</td>\n",
       "      <td>1562.148148</td>\n",
       "      <td>1453.944444</td>\n",
       "    </tr>\n",
       "    <tr>\n",
       "      <th>2015-02-01</th>\n",
       "      <td>510.291667</td>\n",
       "      <td>1328.291667</td>\n",
       "      <td>1540.041667</td>\n",
       "      <td>1443.875000</td>\n",
       "    </tr>\n",
       "    <tr>\n",
       "      <th>2015-03-01</th>\n",
       "      <td>221.400000</td>\n",
       "      <td>1327.760000</td>\n",
       "      <td>1539.760000</td>\n",
       "      <td>1437.720000</td>\n",
       "    </tr>\n",
       "    <tr>\n",
       "      <th>2015-04-01</th>\n",
       "      <td>309.730769</td>\n",
       "      <td>1331.384615</td>\n",
       "      <td>1548.923077</td>\n",
       "      <td>1442.000000</td>\n",
       "    </tr>\n",
       "    <tr>\n",
       "      <th>2015-05-01</th>\n",
       "      <td>395.777778</td>\n",
       "      <td>1340.777778</td>\n",
       "      <td>1565.611111</td>\n",
       "      <td>1450.944444</td>\n",
       "    </tr>\n",
       "    <tr>\n",
       "      <th>2015-06-01</th>\n",
       "      <td>257.000000</td>\n",
       "      <td>1332.541667</td>\n",
       "      <td>1562.875000</td>\n",
       "      <td>1461.750000</td>\n",
       "    </tr>\n",
       "    <tr>\n",
       "      <th>2015-07-01</th>\n",
       "      <td>397.656250</td>\n",
       "      <td>1342.250000</td>\n",
       "      <td>1533.562500</td>\n",
       "      <td>1445.531250</td>\n",
       "    </tr>\n",
       "    <tr>\n",
       "      <th>2015-08-01</th>\n",
       "      <td>550.395349</td>\n",
       "      <td>1373.720930</td>\n",
       "      <td>1541.953488</td>\n",
       "      <td>1470.232558</td>\n",
       "    </tr>\n",
       "    <tr>\n",
       "      <th>2015-09-01</th>\n",
       "      <td>859.166667</td>\n",
       "      <td>1371.203704</td>\n",
       "      <td>1564.962963</td>\n",
       "      <td>1467.111111</td>\n",
       "    </tr>\n",
       "    <tr>\n",
       "      <th>2015-10-01</th>\n",
       "      <td>888.760870</td>\n",
       "      <td>1339.021739</td>\n",
       "      <td>1550.934783</td>\n",
       "      <td>1455.500000</td>\n",
       "    </tr>\n",
       "    <tr>\n",
       "      <th>2015-11-01</th>\n",
       "      <td>663.450704</td>\n",
       "      <td>1376.873239</td>\n",
       "      <td>1594.633803</td>\n",
       "      <td>1503.042254</td>\n",
       "    </tr>\n",
       "    <tr>\n",
       "      <th>2015-12-01</th>\n",
       "      <td>827.727273</td>\n",
       "      <td>1384.060606</td>\n",
       "      <td>1609.696970</td>\n",
       "      <td>1493.136364</td>\n",
       "    </tr>\n",
       "    <tr>\n",
       "      <th>2016-01-01</th>\n",
       "      <td>447.736842</td>\n",
       "      <td>1395.223684</td>\n",
       "      <td>1581.026316</td>\n",
       "      <td>1493.657895</td>\n",
       "    </tr>\n",
       "    <tr>\n",
       "      <th>2016-02-01</th>\n",
       "      <td>328.217391</td>\n",
       "      <td>1422.927536</td>\n",
       "      <td>1590.463768</td>\n",
       "      <td>1505.086957</td>\n",
       "    </tr>\n",
       "    <tr>\n",
       "      <th>2016-03-01</th>\n",
       "      <td>298.849057</td>\n",
       "      <td>1423.358491</td>\n",
       "      <td>1616.245283</td>\n",
       "      <td>1527.132075</td>\n",
       "    </tr>\n",
       "    <tr>\n",
       "      <th>2016-04-01</th>\n",
       "      <td>243.250000</td>\n",
       "      <td>1446.041667</td>\n",
       "      <td>1603.875000</td>\n",
       "      <td>1534.750000</td>\n",
       "    </tr>\n",
       "    <tr>\n",
       "      <th>2016-05-01</th>\n",
       "      <td>190.809524</td>\n",
       "      <td>1420.714286</td>\n",
       "      <td>1631.428571</td>\n",
       "      <td>1538.142857</td>\n",
       "    </tr>\n",
       "    <tr>\n",
       "      <th>2016-06-01</th>\n",
       "      <td>131.250000</td>\n",
       "      <td>1483.218750</td>\n",
       "      <td>1636.406250</td>\n",
       "      <td>1548.031250</td>\n",
       "    </tr>\n",
       "    <tr>\n",
       "      <th>2016-07-01</th>\n",
       "      <td>26.100000</td>\n",
       "      <td>1466.700000</td>\n",
       "      <td>1616.450000</td>\n",
       "      <td>1539.750000</td>\n",
       "    </tr>\n",
       "    <tr>\n",
       "      <th>2016-08-01</th>\n",
       "      <td>165.800000</td>\n",
       "      <td>1463.771429</td>\n",
       "      <td>1613.628571</td>\n",
       "      <td>1546.571429</td>\n",
       "    </tr>\n",
       "    <tr>\n",
       "      <th>2016-09-01</th>\n",
       "      <td>557.197183</td>\n",
       "      <td>1405.971831</td>\n",
       "      <td>1619.464789</td>\n",
       "      <td>1517.408451</td>\n",
       "    </tr>\n",
       "    <tr>\n",
       "      <th>2016-10-01</th>\n",
       "      <td>1861.509804</td>\n",
       "      <td>1282.725490</td>\n",
       "      <td>1602.196078</td>\n",
       "      <td>1440.647059</td>\n",
       "    </tr>\n",
       "    <tr>\n",
       "      <th>2016-11-01</th>\n",
       "      <td>704.962264</td>\n",
       "      <td>1322.735849</td>\n",
       "      <td>1612.849057</td>\n",
       "      <td>1472.207547</td>\n",
       "    </tr>\n",
       "  </tbody>\n",
       "</table>\n",
       "</div>"
      ],
      "text/plain": [
       "            arrivals_in_qtl    min_price    max_price  modal_price\n",
       "date                                                              \n",
       "2014-09-01       495.324324  1337.864865  1563.351351  1465.216216\n",
       "2014-10-01      1022.680851  1325.936170  1592.000000  1461.872340\n",
       "2014-11-01      1199.629032  1340.177419  1573.241935  1465.790323\n",
       "2014-12-01       785.222222  1311.244444  1546.622222  1440.533333\n",
       "2015-01-01       471.462963  1336.111111  1562.148148  1453.944444\n",
       "2015-02-01       510.291667  1328.291667  1540.041667  1443.875000\n",
       "2015-03-01       221.400000  1327.760000  1539.760000  1437.720000\n",
       "2015-04-01       309.730769  1331.384615  1548.923077  1442.000000\n",
       "2015-05-01       395.777778  1340.777778  1565.611111  1450.944444\n",
       "2015-06-01       257.000000  1332.541667  1562.875000  1461.750000\n",
       "2015-07-01       397.656250  1342.250000  1533.562500  1445.531250\n",
       "2015-08-01       550.395349  1373.720930  1541.953488  1470.232558\n",
       "2015-09-01       859.166667  1371.203704  1564.962963  1467.111111\n",
       "2015-10-01       888.760870  1339.021739  1550.934783  1455.500000\n",
       "2015-11-01       663.450704  1376.873239  1594.633803  1503.042254\n",
       "2015-12-01       827.727273  1384.060606  1609.696970  1493.136364\n",
       "2016-01-01       447.736842  1395.223684  1581.026316  1493.657895\n",
       "2016-02-01       328.217391  1422.927536  1590.463768  1505.086957\n",
       "2016-03-01       298.849057  1423.358491  1616.245283  1527.132075\n",
       "2016-04-01       243.250000  1446.041667  1603.875000  1534.750000\n",
       "2016-05-01       190.809524  1420.714286  1631.428571  1538.142857\n",
       "2016-06-01       131.250000  1483.218750  1636.406250  1548.031250\n",
       "2016-07-01        26.100000  1466.700000  1616.450000  1539.750000\n",
       "2016-08-01       165.800000  1463.771429  1613.628571  1546.571429\n",
       "2016-09-01       557.197183  1405.971831  1619.464789  1517.408451\n",
       "2016-10-01      1861.509804  1282.725490  1602.196078  1440.647059\n",
       "2016-11-01       704.962264  1322.735849  1612.849057  1472.207547"
      ]
     },
     "execution_count": 7,
     "metadata": {},
     "output_type": "execute_result"
    }
   ],
   "source": [
    "comdf1 = df1.loc[df1.Commodity=='BAJRI'].groupby('date').mean()\n",
    "comdf1"
   ]
  },
  {
   "cell_type": "code",
   "execution_count": 8,
   "metadata": {},
   "outputs": [
    {
     "data": {
      "text/html": [
       "<div>\n",
       "<style scoped>\n",
       "    .dataframe tbody tr th:only-of-type {\n",
       "        vertical-align: middle;\n",
       "    }\n",
       "\n",
       "    .dataframe tbody tr th {\n",
       "        vertical-align: top;\n",
       "    }\n",
       "\n",
       "    .dataframe thead th {\n",
       "        text-align: right;\n",
       "    }\n",
       "</style>\n",
       "<table border=\"1\" class=\"dataframe\">\n",
       "  <thead>\n",
       "    <tr style=\"text-align: right;\">\n",
       "      <th></th>\n",
       "      <th>msprice</th>\n",
       "    </tr>\n",
       "  </thead>\n",
       "  <tbody>\n",
       "    <tr>\n",
       "      <th>2012-01-01</th>\n",
       "      <td>1175.0</td>\n",
       "    </tr>\n",
       "    <tr>\n",
       "      <th>2012-02-01</th>\n",
       "      <td>1175.0</td>\n",
       "    </tr>\n",
       "    <tr>\n",
       "      <th>2012-03-01</th>\n",
       "      <td>1175.0</td>\n",
       "    </tr>\n",
       "    <tr>\n",
       "      <th>2012-04-01</th>\n",
       "      <td>1175.0</td>\n",
       "    </tr>\n",
       "    <tr>\n",
       "      <th>2012-05-01</th>\n",
       "      <td>1175.0</td>\n",
       "    </tr>\n",
       "    <tr>\n",
       "      <th>2012-06-01</th>\n",
       "      <td>1175.0</td>\n",
       "    </tr>\n",
       "    <tr>\n",
       "      <th>2012-07-01</th>\n",
       "      <td>1175.0</td>\n",
       "    </tr>\n",
       "    <tr>\n",
       "      <th>2012-08-01</th>\n",
       "      <td>1175.0</td>\n",
       "    </tr>\n",
       "    <tr>\n",
       "      <th>2012-09-01</th>\n",
       "      <td>1175.0</td>\n",
       "    </tr>\n",
       "    <tr>\n",
       "      <th>2012-10-01</th>\n",
       "      <td>1175.0</td>\n",
       "    </tr>\n",
       "    <tr>\n",
       "      <th>2012-11-01</th>\n",
       "      <td>1175.0</td>\n",
       "    </tr>\n",
       "    <tr>\n",
       "      <th>2012-12-01</th>\n",
       "      <td>1175.0</td>\n",
       "    </tr>\n",
       "    <tr>\n",
       "      <th>2013-01-01</th>\n",
       "      <td>1310.0</td>\n",
       "    </tr>\n",
       "    <tr>\n",
       "      <th>2013-02-01</th>\n",
       "      <td>1310.0</td>\n",
       "    </tr>\n",
       "    <tr>\n",
       "      <th>2013-03-01</th>\n",
       "      <td>1310.0</td>\n",
       "    </tr>\n",
       "    <tr>\n",
       "      <th>2013-04-01</th>\n",
       "      <td>1310.0</td>\n",
       "    </tr>\n",
       "    <tr>\n",
       "      <th>2013-05-01</th>\n",
       "      <td>1310.0</td>\n",
       "    </tr>\n",
       "    <tr>\n",
       "      <th>2013-06-01</th>\n",
       "      <td>1310.0</td>\n",
       "    </tr>\n",
       "    <tr>\n",
       "      <th>2013-07-01</th>\n",
       "      <td>1310.0</td>\n",
       "    </tr>\n",
       "    <tr>\n",
       "      <th>2013-08-01</th>\n",
       "      <td>1310.0</td>\n",
       "    </tr>\n",
       "    <tr>\n",
       "      <th>2013-09-01</th>\n",
       "      <td>1310.0</td>\n",
       "    </tr>\n",
       "    <tr>\n",
       "      <th>2013-10-01</th>\n",
       "      <td>1310.0</td>\n",
       "    </tr>\n",
       "    <tr>\n",
       "      <th>2013-11-01</th>\n",
       "      <td>1310.0</td>\n",
       "    </tr>\n",
       "    <tr>\n",
       "      <th>2013-12-01</th>\n",
       "      <td>1310.0</td>\n",
       "    </tr>\n",
       "    <tr>\n",
       "      <th>2014-01-01</th>\n",
       "      <td>1250.0</td>\n",
       "    </tr>\n",
       "    <tr>\n",
       "      <th>2014-02-01</th>\n",
       "      <td>1250.0</td>\n",
       "    </tr>\n",
       "    <tr>\n",
       "      <th>2014-03-01</th>\n",
       "      <td>1250.0</td>\n",
       "    </tr>\n",
       "    <tr>\n",
       "      <th>2014-04-01</th>\n",
       "      <td>1250.0</td>\n",
       "    </tr>\n",
       "    <tr>\n",
       "      <th>2014-05-01</th>\n",
       "      <td>1250.0</td>\n",
       "    </tr>\n",
       "    <tr>\n",
       "      <th>2014-06-01</th>\n",
       "      <td>1250.0</td>\n",
       "    </tr>\n",
       "    <tr>\n",
       "      <th>...</th>\n",
       "      <td>...</td>\n",
       "    </tr>\n",
       "    <tr>\n",
       "      <th>2014-08-01</th>\n",
       "      <td>1250.0</td>\n",
       "    </tr>\n",
       "    <tr>\n",
       "      <th>2014-09-01</th>\n",
       "      <td>1250.0</td>\n",
       "    </tr>\n",
       "    <tr>\n",
       "      <th>2014-10-01</th>\n",
       "      <td>1250.0</td>\n",
       "    </tr>\n",
       "    <tr>\n",
       "      <th>2014-11-01</th>\n",
       "      <td>1250.0</td>\n",
       "    </tr>\n",
       "    <tr>\n",
       "      <th>2014-12-01</th>\n",
       "      <td>1250.0</td>\n",
       "    </tr>\n",
       "    <tr>\n",
       "      <th>2015-01-01</th>\n",
       "      <td>1275.0</td>\n",
       "    </tr>\n",
       "    <tr>\n",
       "      <th>2015-02-01</th>\n",
       "      <td>1275.0</td>\n",
       "    </tr>\n",
       "    <tr>\n",
       "      <th>2015-03-01</th>\n",
       "      <td>1275.0</td>\n",
       "    </tr>\n",
       "    <tr>\n",
       "      <th>2015-04-01</th>\n",
       "      <td>1275.0</td>\n",
       "    </tr>\n",
       "    <tr>\n",
       "      <th>2015-05-01</th>\n",
       "      <td>1275.0</td>\n",
       "    </tr>\n",
       "    <tr>\n",
       "      <th>2015-06-01</th>\n",
       "      <td>1275.0</td>\n",
       "    </tr>\n",
       "    <tr>\n",
       "      <th>2015-07-01</th>\n",
       "      <td>1275.0</td>\n",
       "    </tr>\n",
       "    <tr>\n",
       "      <th>2015-08-01</th>\n",
       "      <td>1275.0</td>\n",
       "    </tr>\n",
       "    <tr>\n",
       "      <th>2015-09-01</th>\n",
       "      <td>1275.0</td>\n",
       "    </tr>\n",
       "    <tr>\n",
       "      <th>2015-10-01</th>\n",
       "      <td>1275.0</td>\n",
       "    </tr>\n",
       "    <tr>\n",
       "      <th>2015-11-01</th>\n",
       "      <td>1275.0</td>\n",
       "    </tr>\n",
       "    <tr>\n",
       "      <th>2015-12-01</th>\n",
       "      <td>1275.0</td>\n",
       "    </tr>\n",
       "    <tr>\n",
       "      <th>2016-01-01</th>\n",
       "      <td>1330.0</td>\n",
       "    </tr>\n",
       "    <tr>\n",
       "      <th>2016-02-01</th>\n",
       "      <td>1330.0</td>\n",
       "    </tr>\n",
       "    <tr>\n",
       "      <th>2016-03-01</th>\n",
       "      <td>1330.0</td>\n",
       "    </tr>\n",
       "    <tr>\n",
       "      <th>2016-04-01</th>\n",
       "      <td>1330.0</td>\n",
       "    </tr>\n",
       "    <tr>\n",
       "      <th>2016-05-01</th>\n",
       "      <td>1330.0</td>\n",
       "    </tr>\n",
       "    <tr>\n",
       "      <th>2016-06-01</th>\n",
       "      <td>1330.0</td>\n",
       "    </tr>\n",
       "    <tr>\n",
       "      <th>2016-07-01</th>\n",
       "      <td>1330.0</td>\n",
       "    </tr>\n",
       "    <tr>\n",
       "      <th>2016-08-01</th>\n",
       "      <td>1330.0</td>\n",
       "    </tr>\n",
       "    <tr>\n",
       "      <th>2016-09-01</th>\n",
       "      <td>1330.0</td>\n",
       "    </tr>\n",
       "    <tr>\n",
       "      <th>2016-10-01</th>\n",
       "      <td>1330.0</td>\n",
       "    </tr>\n",
       "    <tr>\n",
       "      <th>2016-11-01</th>\n",
       "      <td>1330.0</td>\n",
       "    </tr>\n",
       "    <tr>\n",
       "      <th>2016-12-01</th>\n",
       "      <td>1330.0</td>\n",
       "    </tr>\n",
       "    <tr>\n",
       "      <th>2017-01-01</th>\n",
       "      <td>1330.0</td>\n",
       "    </tr>\n",
       "  </tbody>\n",
       "</table>\n",
       "<p>61 rows × 1 columns</p>\n",
       "</div>"
      ],
      "text/plain": [
       "            msprice\n",
       "2012-01-01   1175.0\n",
       "2012-02-01   1175.0\n",
       "2012-03-01   1175.0\n",
       "2012-04-01   1175.0\n",
       "2012-05-01   1175.0\n",
       "2012-06-01   1175.0\n",
       "2012-07-01   1175.0\n",
       "2012-08-01   1175.0\n",
       "2012-09-01   1175.0\n",
       "2012-10-01   1175.0\n",
       "2012-11-01   1175.0\n",
       "2012-12-01   1175.0\n",
       "2013-01-01   1310.0\n",
       "2013-02-01   1310.0\n",
       "2013-03-01   1310.0\n",
       "2013-04-01   1310.0\n",
       "2013-05-01   1310.0\n",
       "2013-06-01   1310.0\n",
       "2013-07-01   1310.0\n",
       "2013-08-01   1310.0\n",
       "2013-09-01   1310.0\n",
       "2013-10-01   1310.0\n",
       "2013-11-01   1310.0\n",
       "2013-12-01   1310.0\n",
       "2014-01-01   1250.0\n",
       "2014-02-01   1250.0\n",
       "2014-03-01   1250.0\n",
       "2014-04-01   1250.0\n",
       "2014-05-01   1250.0\n",
       "2014-06-01   1250.0\n",
       "...             ...\n",
       "2014-08-01   1250.0\n",
       "2014-09-01   1250.0\n",
       "2014-10-01   1250.0\n",
       "2014-11-01   1250.0\n",
       "2014-12-01   1250.0\n",
       "2015-01-01   1275.0\n",
       "2015-02-01   1275.0\n",
       "2015-03-01   1275.0\n",
       "2015-04-01   1275.0\n",
       "2015-05-01   1275.0\n",
       "2015-06-01   1275.0\n",
       "2015-07-01   1275.0\n",
       "2015-08-01   1275.0\n",
       "2015-09-01   1275.0\n",
       "2015-10-01   1275.0\n",
       "2015-11-01   1275.0\n",
       "2015-12-01   1275.0\n",
       "2016-01-01   1330.0\n",
       "2016-02-01   1330.0\n",
       "2016-03-01   1330.0\n",
       "2016-04-01   1330.0\n",
       "2016-05-01   1330.0\n",
       "2016-06-01   1330.0\n",
       "2016-07-01   1330.0\n",
       "2016-08-01   1330.0\n",
       "2016-09-01   1330.0\n",
       "2016-10-01   1330.0\n",
       "2016-11-01   1330.0\n",
       "2016-12-01   1330.0\n",
       "2017-01-01   1330.0\n",
       "\n",
       "[61 rows x 1 columns]"
      ]
     },
     "execution_count": 8,
     "metadata": {},
     "output_type": "execute_result"
    }
   ],
   "source": [
    "# Manipulating the timeseries range for easy merging of dataset.\n",
    "comdf2 = df2.loc[df2.commodity=='BAJRI'].groupby('year').mean()\n",
    "comdf2 = comdf2.append(pd.DataFrame(data={'msprice': np.nan}, index=[pd.Timestamp('2017-01-01')]))\n",
    "comdf2 = comdf2.resample('MS').mean().ffill()\n",
    "comdf2"
   ]
  },
  {
   "cell_type": "code",
   "execution_count": 9,
   "metadata": {},
   "outputs": [
    {
     "data": {
      "text/plain": [
       "<matplotlib.axes._subplots.AxesSubplot at 0x10c001a20>"
      ]
     },
     "execution_count": 9,
     "metadata": {},
     "output_type": "execute_result"
    },
    {
     "data": {
      "image/png": "[encoded data removed]",
      "text/plain": [
       "<Figure size 432x288 with 1 Axes>"
      ]
     },
     "metadata": {
      "needs_background": "light"
     },
     "output_type": "display_data"
    }
   ],
   "source": [
    "# Merging of datasets for commodity 'bajri'\n",
    "comdf = pd.DataFrame(comdf1)\n",
    "comdf['msprice'] = comdf2.loc[comdf1.index]\n",
    "comdf = comdf.ffill()\n",
    "comdf.plot()"
   ]
  },
  {
   "cell_type": "code",
   "execution_count": 10,
   "metadata": {},
   "outputs": [
    {
     "name": "stdout",
     "output_type": "stream",
     "text": [
      "Seasonality detected: additive\n"
     ]
    },
    {
     "data": {
      "text/plain": [
       "<matplotlib.axes._subplots.AxesSubplot at 0x1c203f9630>"
      ]
     },
     "execution_count": 10,
     "metadata": {},
     "output_type": "execute_result"
    },
    {
     "data": {
      "image/png": "[encoded data removed]",
      "text/plain": [
       "<Figure size 432x288 with 1 Axes>"
      ]
     },
     "metadata": {
      "needs_background": "light"
     },
     "output_type": "display_data"
    }
   ],
   "source": [
    "# Deseasonalising the modal price and comparing with MSP\n",
    "desdata = deseasonalise(comdf.modal_price, 3)\n",
    "print('Seasonality detected:', desdata['seasonality'])\n",
    "comdf['deseasonalised'] = desdata['deseasonalised']\n",
    "comdf[['modal_price', 'deseasonalised', 'msprice']].plot()"
   ]
  },
  {
   "cell_type": "markdown",
   "metadata": {},
   "source": [
    "### For each of the common commodity, aggregating the modals prices across all APMCs, deseasonalising them and plotting wih the MSP"
   ]
  },
  {
   "cell_type": "code",
   "execution_count": 11,
   "metadata": {},
   "outputs": [
    {
     "name": "stdout",
     "output_type": "stream",
     "text": [
      "Commodities rejected due to less data:\n"
     ]
    },
    {
     "name": "stderr",
     "output_type": "stream",
     "text": [
      "/Users/saumay/miniconda3/lib/python3.7/site-packages/ipykernel_launcher.py:6: FutureWarning: \n",
      "Passing list-likes to .loc or [] with any missing label will raise\n",
      "KeyError in the future, you can use .reindex() as an alternative.\n",
      "\n",
      "See the documentation here:\n",
      "https://pandas.pydata.org/pandas-docs/stable/indexing.html#deprecate-loc-reindex-listlike\n",
      "  \n"
     ]
    },
    {
     "name": "stdout",
     "output_type": "stream",
     "text": [
      "NIGER-SEED\n"
     ]
    },
    {
     "data": {
      "text/plain": [
       "<Figure size 432x288 with 0 Axes>"
      ]
     },
     "metadata": {},
     "output_type": "display_data"
    },
    {
     "data": {
      "text/plain": [
       "<Figure size 432x288 with 0 Axes>"
      ]
     },
     "metadata": {},
     "output_type": "display_data"
    },
    {
     "data": {
      "text/plain": [
       "<Figure size 432x288 with 0 Axes>"
      ]
     },
     "metadata": {},
     "output_type": "display_data"
    },
    {
     "data": {
      "text/plain": [
       "<Figure size 432x288 with 0 Axes>"
      ]
     },
     "metadata": {},
     "output_type": "display_data"
    },
    {
     "data": {
      "text/plain": [
       "<Figure size 432x288 with 0 Axes>"
      ]
     },
     "metadata": {},
     "output_type": "display_data"
    },
    {
     "data": {
      "text/plain": [
       "<Figure size 432x288 with 0 Axes>"
      ]
     },
     "metadata": {},
     "output_type": "display_data"
    },
    {
     "data": {
      "text/plain": [
       "<Figure size 432x288 with 0 Axes>"
      ]
     },
     "metadata": {},
     "output_type": "display_data"
    },
    {
     "data": {
      "text/plain": [
       "<Figure size 432x288 with 0 Axes>"
      ]
     },
     "metadata": {},
     "output_type": "display_data"
    },
    {
     "data": {
      "text/plain": [
       "<Figure size 432x288 with 0 Axes>"
      ]
     },
     "metadata": {},
     "output_type": "display_data"
    },
    {
     "data": {
      "text/plain": [
       "<Figure size 432x288 with 0 Axes>"
      ]
     },
     "metadata": {},
     "output_type": "display_data"
    },
    {
     "data": {
      "text/plain": [
       "<Figure size 432x288 with 0 Axes>"
      ]
     },
     "metadata": {},
     "output_type": "display_data"
    },
    {
     "data": {
      "text/plain": [
       "<Figure size 432x288 with 0 Axes>"
      ]
     },
     "metadata": {},
     "output_type": "display_data"
    },
    {
     "data": {
      "text/plain": [
       "<Figure size 432x288 with 0 Axes>"
      ]
     },
     "metadata": {},
     "output_type": "display_data"
    },
    {
     "data": {
      "text/plain": [
       "<Figure size 432x288 with 0 Axes>"
      ]
     },
     "metadata": {},
     "output_type": "display_data"
    },
    {
     "data": {
      "text/plain": [
       "<Figure size 432x288 with 0 Axes>"
      ]
     },
     "metadata": {},
     "output_type": "display_data"
    },
    {
     "data": {
      "text/plain": [
       "<Figure size 432x288 with 0 Axes>"
      ]
     },
     "metadata": {},
     "output_type": "display_data"
    },
    {
     "data": {
      "text/plain": [
       "<Figure size 432x288 with 0 Axes>"
      ]
     },
     "metadata": {},
     "output_type": "display_data"
    },
    {
     "data": {
      "text/plain": [
       "<Figure size 432x288 with 0 Axes>"
      ]
     },
     "metadata": {},
     "output_type": "display_data"
    }
   ],
   "source": [
    "print('Commodities rejected due to less data:')\n",
    "for commodity in common_commodities:\n",
    "    comdf1 = df1.loc[df1.Commodity==commodity].groupby('date').mean()\n",
    "    comdf2 = df2.loc[df2.commodity==commodity].groupby('year').mean().resample('MS').mean().ffill()\n",
    "    comdf = pd.DataFrame(comdf1)\n",
    "    comdf['msprice'] = comdf2.loc[comdf1.index]\n",
    "    comdf = comdf.ffill()\n",
    "    if (comdf.shape[0]<6):\n",
    "        print(commodity)\n",
    "    else:\n",
    "        desdata = deseasonalise(comdf.modal_price, 3)\n",
    "        title = 'Commodity: {}\\nSeasonality detected: {}'.format(commodity, desdata['seasonality'])\n",
    "        comdf['deseasonalised'] = desdata['deseasonalised']\n",
    "        fig = comdf[['modal_price', 'deseasonalised', 'msprice']].plot()\n",
    "        plt.suptitle(title)\n",
    "        plt.savefig('./visuals/msp-comparison/commodity/{}.png'.format(commodity))\n",
    "        plt.clf()"
   ]
  },
  {
   "cell_type": "markdown",
   "metadata": {},
   "source": [
    "### Comparing the raw and deseasonalised price with MSP for each commodity in each APMC (according to available data)"
   ]
  },
  {
   "cell_type": "code",
   "execution_count": 12,
   "metadata": {},
   "outputs": [
    {
     "name": "stdout",
     "output_type": "stream",
     "text": [
      "APMC: AURANGABAD, Commodity: BAJRI\n",
      "APMC: KALYAN, Commodity: BAJRI\n",
      "APMC: ATPADI, Commodity: BAJRI\n",
      "APMC: BHOKAR, Commodity: BAJRI\n",
      "APMC: KILLE DHARUR, Commodity: BAJRI\n"
     ]
    },
    {
     "name": "stderr",
     "output_type": "stream",
     "text": [
      "/Users/saumay/miniconda3/lib/python3.7/site-packages/matplotlib/pyplot.py:514: RuntimeWarning: More than 20 figures have been opened. Figures created through the pyplot interface (`matplotlib.pyplot.figure`) are retained until explicitly closed and may consume too much memory. (To control this warning, see the rcParam `figure.max_open_warning`).\n",
      "  max_open_warning, RuntimeWarning)\n"
     ]
    },
    {
     "name": "stdout",
     "output_type": "stream",
     "text": [
      "APMC: AUSA, Commodity: BAJRI\n",
      "APMC: GHANSAWANGI, Commodity: BAJRI\n",
      "APMC: VASAI, Commodity: BAJRI\n",
      "APMC: JINTUR, Commodity: BAJRI\n",
      "APMC: JINTUR-BORI, Commodity: BAJRI\n",
      "APMC: KARANJA, Commodity: BAJRI\n",
      "APMC: KARMALA, Commodity: BAJRI\n",
      "APMC: ACHALPUR, Commodity: BAJRI\n",
      "APMC: KOLHAPUR-LAXMIPURI, Commodity: BAJRI\n",
      "APMC: KURDWADI-MODNIMB, Commodity: BAJRI\n",
      "APMC: WASHIM, Commodity: BAJRI\n",
      "APMC: AKOLA, Commodity: BAJRI\n",
      "APMC: PANDHARPUR, Commodity: BAJRI\n",
      "APMC: ASHTI (JALNA), Commodity: BAJRI\n",
      "APMC: SHRIRAMPUR-BELAPUR, Commodity: BAJRI\n",
      "APMC: BALAPUR, Commodity: BAJRI\n",
      "APMC: LONAR, Commodity: BAJRI\n",
      "APMC: MANWAT, Commodity: BAJRI\n",
      "APMC: LOHARA, Commodity: BAJRI\n",
      "APMC: MUKHED, Commodity: BAJRI\n",
      "APMC: SHRIGONDA, Commodity: BAJRI\n",
      "APMC: KADA (ASHTI), Commodity: BAJRI\n",
      "APMC: NAVAPUR, Commodity: BAJRI\n",
      "APMC: NAMPUR, Commodity: BAJRI\n",
      "APMC: BHUSAVAL, Commodity: BAJRI\n",
      "APMC: CHIKHALI, Commodity: BAJRI\n",
      "APMC: BHOKARDAN-PIMPALGAON RENU, Commodity: BAJRI\n",
      "APMC: DHARANGAON, Commodity: BAJRI\n",
      "APMC: RAHURI-SONGAON, Commodity: BAJRI\n",
      "APMC: BORI, Commodity: BAJRI\n",
      "APMC: CHAKUR, Commodity: BAJRI\n",
      "APMC: VADVANI, Commodity: BAJRI\n"
     ]
    },
    {
     "data": {
      "text/plain": [
       "<Figure size 432x288 with 0 Axes>"
      ]
     },
     "metadata": {},
     "output_type": "display_data"
    },
    {
     "data": {
      "text/plain": [
       "<Figure size 432x288 with 0 Axes>"
      ]
     },
     "metadata": {},
     "output_type": "display_data"
    },
    {
     "data": {
      "text/plain": [
       "<Figure size 432x288 with 0 Axes>"
      ]
     },
     "metadata": {},
     "output_type": "display_data"
    },
    {
     "data": {
      "text/plain": [
       "<Figure size 432x288 with 0 Axes>"
      ]
     },
     "metadata": {},
     "output_type": "display_data"
    },
    {
     "data": {
      "text/plain": [
       "<Figure size 432x288 with 0 Axes>"
      ]
     },
     "metadata": {},
     "output_type": "display_data"
    },
    {
     "data": {
      "text/plain": [
       "<Figure size 432x288 with 0 Axes>"
      ]
     },
     "metadata": {},
     "output_type": "display_data"
    },
    {
     "data": {
      "text/plain": [
       "<Figure size 432x288 with 0 Axes>"
      ]
     },
     "metadata": {},
     "output_type": "display_data"
    },
    {
     "data": {
      "text/plain": [
       "<Figure size 432x288 with 0 Axes>"
      ]
     },
     "metadata": {},
     "output_type": "display_data"
    },
    {
     "data": {
      "text/plain": [
       "<Figure size 432x288 with 0 Axes>"
      ]
     },
     "metadata": {},
     "output_type": "display_data"
    },
    {
     "data": {
      "text/plain": [
       "<Figure size 432x288 with 0 Axes>"
      ]
     },
     "metadata": {},
     "output_type": "display_data"
    },
    {
     "data": {
      "text/plain": [
       "<Figure size 432x288 with 0 Axes>"
      ]
     },
     "metadata": {},
     "output_type": "display_data"
    },
    {
     "data": {
      "text/plain": [
       "<Figure size 432x288 with 0 Axes>"
      ]
     },
     "metadata": {},
     "output_type": "display_data"
    },
    {
     "data": {
      "text/plain": [
       "<Figure size 432x288 with 0 Axes>"
      ]
     },
     "metadata": {},
     "output_type": "display_data"
    },
    {
     "data": {
      "text/plain": [
       "<Figure size 432x288 with 0 Axes>"
      ]
     },
     "metadata": {},
     "output_type": "display_data"
    },
    {
     "data": {
      "text/plain": [
       "<Figure size 432x288 with 0 Axes>"
      ]
     },
     "metadata": {},
     "output_type": "display_data"
    },
    {
     "data": {
      "text/plain": [
       "<Figure size 432x288 with 0 Axes>"
      ]
     },
     "metadata": {},
     "output_type": "display_data"
    },
    {
     "data": {
      "text/plain": [
       "<Figure size 432x288 with 0 Axes>"
      ]
     },
     "metadata": {},
     "output_type": "display_data"
    },
    {
     "data": {
      "text/plain": [
       "<Figure size 432x288 with 0 Axes>"
      ]
     },
     "metadata": {},
     "output_type": "display_data"
    },
    {
     "data": {
      "text/plain": [
       "<Figure size 432x288 with 0 Axes>"
      ]
     },
     "metadata": {},
     "output_type": "display_data"
    },
    {
     "data": {
      "text/plain": [
       "<Figure size 432x288 with 0 Axes>"
      ]
     },
     "metadata": {},
     "output_type": "display_data"
    },
    {
     "data": {
      "text/plain": [
       "<Figure size 432x288 with 0 Axes>"
      ]
     },
     "metadata": {},
     "output_type": "display_data"
    },
    {
     "data": {
      "text/plain": [
       "<Figure size 432x288 with 0 Axes>"
      ]
     },
     "metadata": {},
     "output_type": "display_data"
    },
    {
     "data": {
      "text/plain": [
       "<Figure size 432x288 with 0 Axes>"
      ]
     },
     "metadata": {},
     "output_type": "display_data"
    },
    {
     "data": {
      "text/plain": [
       "<Figure size 432x288 with 0 Axes>"
      ]
     },
     "metadata": {},
     "output_type": "display_data"
    },
    {
     "data": {
      "text/plain": [
       "<Figure size 432x288 with 0 Axes>"
      ]
     },
     "metadata": {},
     "output_type": "display_data"
    },
    {
     "data": {
      "text/plain": [
       "<Figure size 432x288 with 0 Axes>"
      ]
     },
     "metadata": {},
     "output_type": "display_data"
    },
    {
     "data": {
      "text/plain": [
       "<Figure size 432x288 with 0 Axes>"
      ]
     },
     "metadata": {},
     "output_type": "display_data"
    },
    {
     "data": {
      "text/plain": [
       "<Figure size 432x288 with 0 Axes>"
      ]
     },
     "metadata": {},
     "output_type": "display_data"
    },
    {
     "data": {
      "text/plain": [
       "<Figure size 432x288 with 0 Axes>"
      ]
     },
     "metadata": {},
     "output_type": "display_data"
    },
    {
     "data": {
      "text/plain": [
       "<Figure size 432x288 with 0 Axes>"
      ]
     },
     "metadata": {},
     "output_type": "display_data"
    },
    {
     "data": {
      "text/plain": [
       "<Figure size 432x288 with 0 Axes>"
      ]
     },
     "metadata": {},
     "output_type": "display_data"
    },
    {
     "data": {
      "text/plain": [
       "<Figure size 432x288 with 0 Axes>"
      ]
     },
     "metadata": {},
     "output_type": "display_data"
    },
    {
     "data": {
      "text/plain": [
       "<Figure size 432x288 with 0 Axes>"
      ]
     },
     "metadata": {},
     "output_type": "display_data"
    },
    {
     "data": {
      "text/plain": [
       "<Figure size 432x288 with 0 Axes>"
      ]
     },
     "metadata": {},
     "output_type": "display_data"
    },
    {
     "data": {
      "text/plain": [
       "<Figure size 432x288 with 0 Axes>"
      ]
     },
     "metadata": {},
     "output_type": "display_data"
    },
    {
     "data": {
      "text/plain": [
       "<Figure size 432x288 with 0 Axes>"
      ]
     },
     "metadata": {},
     "output_type": "display_data"
    },
    {
     "data": {
      "text/plain": [
       "<Figure size 432x288 with 0 Axes>"
      ]
     },
     "metadata": {},
     "output_type": "display_data"
    },
    {
     "data": {
      "text/plain": [
       "<Figure size 432x288 with 0 Axes>"
      ]
     },
     "metadata": {},
     "output_type": "display_data"
    },
    {
     "data": {
      "text/plain": [
       "<Figure size 432x288 with 0 Axes>"
      ]
     },
     "metadata": {},
     "output_type": "display_data"
    },
    {
     "data": {
      "text/plain": [
       "<Figure size 432x288 with 0 Axes>"
      ]
     },
     "metadata": {},
     "output_type": "display_data"
    },
    {
     "data": {
      "text/plain": [
       "<Figure size 432x288 with 0 Axes>"
      ]
     },
     "metadata": {},
     "output_type": "display_data"
    },
    {
     "data": {
      "text/plain": [
       "<Figure size 432x288 with 0 Axes>"
      ]
     },
     "metadata": {},
     "output_type": "display_data"
    },
    {
     "data": {
      "text/plain": [
       "<Figure size 432x288 with 0 Axes>"
      ]
     },
     "metadata": {},
     "output_type": "display_data"
    },
    {
     "data": {
      "text/plain": [
       "<Figure size 432x288 with 0 Axes>"
      ]
     },
     "metadata": {},
     "output_type": "display_data"
    },
    {
     "data": {
      "text/plain": [
       "<Figure size 432x288 with 0 Axes>"
      ]
     },
     "metadata": {},
     "output_type": "display_data"
    },
    {
     "data": {
      "text/plain": [
       "<Figure size 432x288 with 0 Axes>"
      ]
     },
     "metadata": {},
     "output_type": "display_data"
    },
    {
     "data": {
      "text/plain": [
       "<Figure size 432x288 with 0 Axes>"
      ]
     },
     "metadata": {},
     "output_type": "display_data"
    },
    {
     "data": {
      "text/plain": [
       "<Figure size 432x288 with 0 Axes>"
      ]
     },
     "metadata": {},
     "output_type": "display_data"
    },
    {
     "data": {
      "text/plain": [
       "<Figure size 432x288 with 0 Axes>"
      ]
     },
     "metadata": {},
     "output_type": "display_data"
    },
    {
     "data": {
      "text/plain": [
       "<Figure size 432x288 with 0 Axes>"
      ]
     },
     "metadata": {},
     "output_type": "display_data"
    },
    {
     "data": {
      "text/plain": [
       "<Figure size 432x288 with 0 Axes>"
      ]
     },
     "metadata": {},
     "output_type": "display_data"
    },
    {
     "data": {
      "text/plain": [
       "<Figure size 432x288 with 0 Axes>"
      ]
     },
     "metadata": {},
     "output_type": "display_data"
    },
    {
     "data": {
      "text/plain": [
       "<Figure size 432x288 with 0 Axes>"
      ]
     },
     "metadata": {},
     "output_type": "display_data"
    },
    {
     "data": {
      "text/plain": [
       "<Figure size 432x288 with 0 Axes>"
      ]
     },
     "metadata": {},
     "output_type": "display_data"
    },
    {
     "data": {
      "text/plain": [
       "<Figure size 432x288 with 0 Axes>"
      ]
     },
     "metadata": {},
     "output_type": "display_data"
    },
    {
     "data": {
      "text/plain": [
       "<Figure size 432x288 with 0 Axes>"
      ]
     },
     "metadata": {},
     "output_type": "display_data"
    },
    {
     "data": {
      "text/plain": [
       "<Figure size 432x288 with 0 Axes>"
      ]
     },
     "metadata": {},
     "output_type": "display_data"
    },
    {
     "data": {
      "text/plain": [
       "<Figure size 432x288 with 0 Axes>"
      ]
     },
     "metadata": {},
     "output_type": "display_data"
    },
    {
     "data": {
      "text/plain": [
       "<Figure size 432x288 with 0 Axes>"
      ]
     },
     "metadata": {},
     "output_type": "display_data"
    },
    {
     "data": {
      "text/plain": [
       "<Figure size 432x288 with 0 Axes>"
      ]
     },
     "metadata": {},
     "output_type": "display_data"
    },
    {
     "data": {
      "text/plain": [
       "<Figure size 432x288 with 0 Axes>"
      ]
     },
     "metadata": {},
     "output_type": "display_data"
    },
    {
     "data": {
      "text/plain": [
       "<Figure size 432x288 with 0 Axes>"
      ]
     },
     "metadata": {},
     "output_type": "display_data"
    },
    {
     "data": {
      "text/plain": [
       "<Figure size 432x288 with 0 Axes>"
      ]
     },
     "metadata": {},
     "output_type": "display_data"
    },
    {
     "data": {
      "text/plain": [
       "<Figure size 432x288 with 0 Axes>"
      ]
     },
     "metadata": {},
     "output_type": "display_data"
    },
    {
     "data": {
      "text/plain": [
       "<Figure size 432x288 with 0 Axes>"
      ]
     },
     "metadata": {},
     "output_type": "display_data"
    },
    {
     "data": {
      "text/plain": [
       "<Figure size 432x288 with 0 Axes>"
      ]
     },
     "metadata": {},
     "output_type": "display_data"
    },
    {
     "data": {
      "text/plain": [
       "<Figure size 432x288 with 0 Axes>"
      ]
     },
     "metadata": {},
     "output_type": "display_data"
    },
    {
     "data": {
      "text/plain": [
       "<Figure size 432x288 with 0 Axes>"
      ]
     },
     "metadata": {},
     "output_type": "display_data"
    },
    {
     "data": {
      "text/plain": [
       "<Figure size 432x288 with 0 Axes>"
      ]
     },
     "metadata": {},
     "output_type": "display_data"
    },
    {
     "data": {
      "text/plain": [
       "<Figure size 432x288 with 0 Axes>"
      ]
     },
     "metadata": {},
     "output_type": "display_data"
    },
    {
     "data": {
      "text/plain": [
       "<Figure size 432x288 with 0 Axes>"
      ]
     },
     "metadata": {},
     "output_type": "display_data"
    },
    {
     "data": {
      "text/plain": [
       "<Figure size 432x288 with 0 Axes>"
      ]
     },
     "metadata": {},
     "output_type": "display_data"
    },
    {
     "data": {
      "text/plain": [
       "<Figure size 432x288 with 0 Axes>"
      ]
     },
     "metadata": {},
     "output_type": "display_data"
    },
    {
     "data": {
      "text/plain": [
       "<Figure size 432x288 with 0 Axes>"
      ]
     },
     "metadata": {},
     "output_type": "display_data"
    },
    {
     "data": {
      "text/plain": [
       "<Figure size 432x288 with 0 Axes>"
      ]
     },
     "metadata": {},
     "output_type": "display_data"
    },
    {
     "data": {
      "text/plain": [
       "<Figure size 432x288 with 0 Axes>"
      ]
     },
     "metadata": {},
     "output_type": "display_data"
    },
    {
     "data": {
      "text/plain": [
       "<Figure size 432x288 with 0 Axes>"
      ]
     },
     "metadata": {},
     "output_type": "display_data"
    },
    {
     "data": {
      "text/plain": [
       "<Figure size 432x288 with 0 Axes>"
      ]
     },
     "metadata": {},
     "output_type": "display_data"
    },
    {
     "data": {
      "text/plain": [
       "<Figure size 432x288 with 0 Axes>"
      ]
     },
     "metadata": {},
     "output_type": "display_data"
    },
    {
     "data": {
      "text/plain": [
       "<Figure size 432x288 with 0 Axes>"
      ]
     },
     "metadata": {},
     "output_type": "display_data"
    },
    {
     "data": {
      "text/plain": [
       "<Figure size 432x288 with 0 Axes>"
      ]
     },
     "metadata": {},
     "output_type": "display_data"
    },
    {
     "data": {
      "text/plain": [
       "<Figure size 432x288 with 0 Axes>"
      ]
     },
     "metadata": {},
     "output_type": "display_data"
    },
    {
     "data": {
      "text/plain": [
       "<Figure size 432x288 with 0 Axes>"
      ]
     },
     "metadata": {},
     "output_type": "display_data"
    },
    {
     "data": {
      "text/plain": [
       "<Figure size 432x288 with 0 Axes>"
      ]
     },
     "metadata": {},
     "output_type": "display_data"
    },
    {
     "data": {
      "text/plain": [
       "<Figure size 432x288 with 0 Axes>"
      ]
     },
     "metadata": {},
     "output_type": "display_data"
    },
    {
     "data": {
      "text/plain": [
       "<Figure size 432x288 with 0 Axes>"
      ]
     },
     "metadata": {},
     "output_type": "display_data"
    },
    {
     "data": {
      "text/plain": [
       "<Figure size 432x288 with 0 Axes>"
      ]
     },
     "metadata": {},
     "output_type": "display_data"
    },
    {
     "data": {
      "text/plain": [
       "<Figure size 432x288 with 0 Axes>"
      ]
     },
     "metadata": {},
     "output_type": "display_data"
    },
    {
     "data": {
      "text/plain": [
       "<Figure size 432x288 with 0 Axes>"
      ]
     },
     "metadata": {},
     "output_type": "display_data"
    },
    {
     "data": {
      "text/plain": [
       "<Figure size 432x288 with 0 Axes>"
      ]
     },
     "metadata": {},
     "output_type": "display_data"
    },
    {
     "data": {
      "text/plain": [
       "<Figure size 432x288 with 0 Axes>"
      ]
     },
     "metadata": {},
     "output_type": "display_data"
    }
   ],
   "source": [
    "for apmc in df1.APMC.unique():\n",
    "    apmcdf = df1.loc[df1.APMC==apmc]\n",
    "    for commodity in common_commodities:\n",
    "        comdf1 = apmcdf.loc[apmcdf.Commodity==commodity].groupby('date').mean()\n",
    "        if comdf1.shape[0]==0:\n",
    "            break\n",
    "        comdf2 = df2.loc[df2.commodity==commodity].groupby('year').mean()\n",
    "        comdf2 = comdf2.append(pd.DataFrame(data={'msprice': np.nan}, index=[pd.Timestamp('2017-01-01')]))\n",
    "        comdf2 = comdf2.resample('MS').mean().ffill()\n",
    "        comdf = pd.DataFrame(comdf1)\n",
    "        comdf['msprice'] = comdf2.loc[comdf1.index]\n",
    "        comdf = comdf.ffill()\n",
    "        if (comdf.shape[0]<6):\n",
    "            print('APMC: {}, Commodity: {}'.format(apmc, commodity))\n",
    "        else:\n",
    "            desdata = deseasonalise(comdf.modal_price, 3)\n",
    "            title = 'APMC: {}  Commodity: {}\\nSeasonality detected: {}'.format(apmc, commodity, desdata['seasonality'])\n",
    "            comdf['deseasonalised'] = desdata['deseasonalised']\n",
    "            fig = comdf[['modal_price', 'deseasonalised', 'msprice']].plot()\n",
    "            plt.suptitle(title)\n",
    "            plt.savefig('./visuals/msp-comparison/apmc-commodity/{} | {}.png'.format(apmc, commodity))\n",
    "            plt.clf()"
   ]
  },
  {
   "cell_type": "code",
   "execution_count": null,
   "metadata": {},
   "outputs": [],
   "source": []
  }
 ],
 "metadata": {
  "kernelspec": {
   "display_name": "Python 3",
   "language": "python",
   "name": "python3"
  },
  "language_info": {
   "codemirror_mode": {
    "name": "ipython",
    "version": 3
   },
   "file_extension": ".py",
   "mimetype": "text/x-python",
   "name": "python",
   "nbconvert_exporter": "python",
   "pygments_lexer": "ipython3",
   "version": "3.7.1"
  }
 },
 "nbformat": 4,
 "nbformat_minor": 2
}
